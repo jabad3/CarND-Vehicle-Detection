{
 "cells": [
  {
   "cell_type": "code",
   "execution_count": null,
   "metadata": {
    "collapsed": false
   },
   "outputs": [],
   "source": [
    "import os\n",
    "import glob\n",
    "import numpy as np\n",
    "import cv2\n",
    "import matplotlib.pyplot as plt\n",
    "import matplotlib.image as mpimg\n",
    "import time\n",
    "from sklearn.svm import LinearSVC\n",
    "from sklearn.preprocessing import StandardScaler\n",
    "from skimage.feature import hog\n",
    "from sklearn.model_selection import train_test_split\n",
    "\n",
    "from external_master import single_img_features\n",
    "from external_master import visualize_notebook\n",
    "from external_master import extract_features\n",
    "from external_master import slide_window\n",
    "from external_master import draw_boxes\n",
    "from external_master import search_windows\n",
    "\n",
    "%matplotlib inline"
   ]
  },
  {
   "cell_type": "code",
   "execution_count": null,
   "metadata": {
    "collapsed": false
   },
   "outputs": [],
   "source": [
    "basedir = \"vehicles/\"\n",
    "image_types = os.listdir(basedir)\n",
    "cars = []\n",
    "for imtype in image_types:\n",
    "    cars.extend(glob.glob(basedir+imtype+'/*'))\n",
    "print(\"Number of Vehicle Images found\", len(cars))\n",
    "\n",
    "\n",
    "basedir = \"non-vehicles/\"\n",
    "image_types = os.listdir(basedir)\n",
    "notcars = []\n",
    "for imtype in image_types:\n",
    "    notcars.extend(glob.glob(basedir+imtype+'/*'))\n",
    "print(\"Number of NotVehicle Images found\", len(notcars))"
   ]
  },
  {
   "cell_type": "code",
   "execution_count": null,
   "metadata": {
    "collapsed": false
   },
   "outputs": [],
   "source": [
    "car_ind = np.random.randint(0, len(cars))\n",
    "notcar_ind = np.random.randint(0,len(notcars))\n",
    "\n",
    "car_image = mpimg.imread(cars[car_ind])\n",
    "notcar_image = mpimg.imread(notcars[notcar_ind])\n",
    "\n",
    "color_space = \"RGB\"\n",
    "orient = 6\n",
    "pix_per_cell = 8\n",
    "cell_per_block = 2\n",
    "hog_channel = 0\n",
    "spatial_size = (16,16)\n",
    "hist_bins = 16\n",
    "spatial_feat = True\n",
    "hist_feat = True\n",
    "hog_feat = True\n",
    "\n",
    "\n",
    "\n",
    "car_features, car_hog_image = single_img_features(car_image, \n",
    "    color_space=color_space,\n",
    "    spatial_size=spatial_size,\n",
    "    hist_bins=hist_bins,\n",
    "    orient=orient,\n",
    "    pix_per_cell=pix_per_cell,\n",
    "    cell_per_block=cell_per_block,\n",
    "    hog_channel=hog_channel,\n",
    "    spatial_feat=spatial_feat,\n",
    "    hist_feat=hist_feat,\n",
    "    hog_feat=hog_feat,\n",
    "    vis=True)\n",
    "\n",
    "notcar_features, notcar_hog_image = single_img_features(notcar_image, \n",
    "    color_space=color_space,\n",
    "    spatial_size=spatial_size,\n",
    "    hist_bins=hist_bins,\n",
    "    orient=orient,\n",
    "    pix_per_cell=pix_per_cell,\n",
    "    cell_per_block=cell_per_block,\n",
    "    hog_channel=hog_channel,\n",
    "    spatial_feat=spatial_feat,\n",
    "    hist_feat=hist_feat,\n",
    "    hog_feat=hog_feat,\n",
    "    vis=True)\n",
    "\n",
    "\n",
    "images = [car_image, car_hog_image, notcar_image, notcar_hog_image]\n",
    "titles = [\"\",\"\",\"\",\"\"]\n",
    "fig = plt.figure(figsize=(12,3))\n",
    "visualize_notebook(fig, 1, 4, images, titles)"
   ]
  },
  {
   "cell_type": "code",
   "execution_count": null,
   "metadata": {
    "collapsed": true
   },
   "outputs": [],
   "source": [
    "color_space = \"YCrCb\"\n",
    "#color_space = \"RGB\"\n",
    "orient = 9\n",
    "pix_per_cell = 8\n",
    "cell_per_block = 2\n",
    "hog_channel = \"ALL\"\n",
    "#hog_channel = 0\n",
    "#spatial_size = (16,16)\n",
    "spatial_size = (32,32)\n",
    "#hist_bins = 16\n",
    "hist_bins = 32\n",
    "spatial_feat = True\n",
    "hist_feat = True\n",
    "hog_feat = True\n",
    "\n",
    "t = time.time()\n",
    "n_samples = 1000\n",
    "random_idxs = np.random.randint(0,len(cars),n_samples)\n",
    "#test_cars = np.array(cars)[random_idxs]\n",
    "test_cars = cars\n",
    "#test_notcars = np.array(notcars)[random_idxs]\n",
    "test_notcars = notcars\n",
    "\n",
    "car_features = extract_features(test_cars, \n",
    "    color_space=color_space, \n",
    "    spatial_size=spatial_size,\n",
    "    hist_bins=hist_bins,\n",
    "    orient=orient,\n",
    "    pix_per_cell=pix_per_cell,\n",
    "    cell_per_block=cell_per_block,\n",
    "    hog_channel=hog_channel, spatial_feat=spatial_feat,\n",
    "    hist_feat=hist_feat,hog_feat=hog_feat)\n",
    "\n",
    "notcar_features = extract_features(test_notcars, \n",
    "    color_space=color_space, \n",
    "    spatial_size=spatial_size,\n",
    "    hist_bins=hist_bins,\n",
    "    orient=orient,\n",
    "    pix_per_cell=pix_per_cell,\n",
    "    cell_per_block=cell_per_block,\n",
    "    hog_channel=hog_channel, spatial_feat=spatial_feat,\n",
    "    hist_feat=hist_feat,hog_feat=hog_feat)\n",
    "\n",
    "print(time.time()-t, \"Seconds to compute features...\")"
   ]
  },
  {
   "cell_type": "code",
   "execution_count": null,
   "metadata": {
    "collapsed": true
   },
   "outputs": [],
   "source": [
    "X = np.vstack((car_features, notcar_features)).astype(np.float64)\n",
    "X_scalar = StandardScaler().fit(X)\n",
    "\n",
    "scaled_X = X_scalar.transform(X)\n",
    "\n",
    "y = np.hstack((np.ones(len(car_features)), np.zeros(len(notcar_features))))\n",
    "\n",
    "rand_state = np.random.randint(0,100)\n",
    "X_train, X_test, y_train, y_test = train_test_split(\n",
    "\tscaled_X, y, test_size=0.1, random_state=rand_state)\n",
    "\n",
    "\n",
    "print(\"Using\", orient, \"orientations\", pix_per_cell, \"...\")\n",
    "print(\"Feature vector length\", len(X_train[0]))\n",
    "\n",
    "svc = LinearSVC()\n",
    "t = time.time()\n",
    "svc.fit(X_train, y_train)\n",
    "print(time.time()-t, \"Seconds to train SVM\")\n",
    "print(\"Test accuracy\", svc.score(X_test, y_test))"
   ]
  },
  {
   "cell_type": "code",
   "execution_count": null,
   "metadata": {
    "collapsed": true
   },
   "outputs": [],
   "source": [
    "search_path = \"../test_images/*\"\n",
    "example_images = glob.glob(search_path)\n",
    "images = []\n",
    "titles = []\n",
    "y_start_stop = [400, 656]\n",
    "overlap = 0.5\n",
    "for img_src in example_images:\n",
    "    t1 = time.time()\n",
    "    img = mpimg.imread(img_src)\n",
    "    draw_img = np.copy(img)\n",
    "    img = img.astype(np.float32)/255\n",
    "    print(np.min(img), np.max(img))\n",
    "\n",
    "    windows = slide_window(img, x_start_stop=[None,None], \n",
    "        y_start_stop=y_start_stop, \n",
    "        #xy_window=(128,128), \n",
    "        #xy_window=(64,64), \n",
    "        xy_window=(96,96), \n",
    "        xy_overlap=(overlap,overlap))\n",
    "    hot_windows = search_windows(\n",
    "        img, windows, svc, X_scalar,\n",
    "        color_space=color_space, \n",
    "        spatial_size=spatial_size,\n",
    "        hist_bins=hist_bins,\n",
    "        orient=orient,\n",
    "        pix_per_cell=pix_per_cell,\n",
    "        cell_per_block=cell_per_block,\n",
    "        hog_channel=hog_channel, spatial_feat=spatial_feat,\n",
    "        hist_feat=hist_feat,hog_feat=hog_feat)\n",
    "\n",
    "    window_img = draw_boxes(draw_img, hot_windows, \n",
    "        color=(0,0,255), thick=6)\n",
    "    images.append(window_img)\n",
    "    titles.append(\"\")\n",
    "    print(time.time()-t1, \"seconds for one image with\", \n",
    "        len(windows), \"windows.\")\n",
    "\n",
    "fig = plt.figure(figsize=(12,18), dpi=300)\n",
    "visualize(fig, 5, 2, image, titles)"
   ]
  },
  {
   "cell_type": "code",
   "execution_count": null,
   "metadata": {
    "collapsed": true
   },
   "outputs": [],
   "source": []
  },
  {
   "cell_type": "code",
   "execution_count": null,
   "metadata": {
    "collapsed": true
   },
   "outputs": [],
   "source": []
  },
  {
   "cell_type": "code",
   "execution_count": null,
   "metadata": {
    "collapsed": true
   },
   "outputs": [],
   "source": []
  },
  {
   "cell_type": "code",
   "execution_count": null,
   "metadata": {
    "collapsed": true
   },
   "outputs": [],
   "source": []
  },
  {
   "cell_type": "code",
   "execution_count": null,
   "metadata": {
    "collapsed": true
   },
   "outputs": [],
   "source": []
  }
 ],
 "metadata": {
  "anaconda-cloud": {},
  "kernelspec": {
   "display_name": "Python [conda env:IntroToTensorFlow]",
   "language": "python",
   "name": "conda-env-IntroToTensorFlow-py"
  },
  "language_info": {
   "codemirror_mode": {
    "name": "ipython",
    "version": 3
   },
   "file_extension": ".py",
   "mimetype": "text/x-python",
   "name": "python",
   "nbconvert_exporter": "python",
   "pygments_lexer": "ipython3",
   "version": "3.5.2"
  }
 },
 "nbformat": 4,
 "nbformat_minor": 0
}
